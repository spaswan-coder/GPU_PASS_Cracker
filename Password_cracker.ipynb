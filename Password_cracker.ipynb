{
  "nbformat": 4,
  "nbformat_minor": 0,
  "metadata": {
    "colab": {
      "provenance": [],
      "gpuType": "T4"
    },
    "kernelspec": {
      "name": "python3",
      "display_name": "Python 3"
    },
    "language_info": {
      "name": "python"
    },
    "accelerator": "GPU"
  },
  "cells": [
    {
      "cell_type": "code",
      "execution_count": 2,
      "metadata": {
        "colab": {
          "base_uri": "https://localhost:8080/"
        },
        "id": "FIAe5vlW9Zto",
        "outputId": "d5f3d7ba-4607-4212-81a9-00b25a25bd03"
      },
      "outputs": [
        {
          "output_type": "stream",
          "name": "stdout",
          "text": [
            "Using device: cuda\n",
            "✅ Password found: sonu\n"
          ]
        }
      ],
      "source": [
        "# GPU Brute-Force Password Cracker using PyTorch\n",
        "\n",
        "import torch\n",
        "\n",
        "# Make sure GPU is available\n",
        "device = torch.device('cuda' if torch.cuda.is_available() else 'cpu')\n",
        "print(\"Using device:\", device)\n",
        "\n",
        "# Target password: change as needed (must be 4 lowercase letters)\n",
        "target = \"cuda\"\n",
        "chars = torch.arange(ord('a'), ord('z')+1, dtype=torch.uint8, device=device)\n",
        "\n",
        "# Generate all combinations: 26^4 = 456976\n",
        "c1 = chars.unsqueeze(1)**0  # will broadcast\n",
        "c2 = chars.unsqueeze(0)\n",
        "# Actually generate via grid\n",
        "c = chars\n",
        "grid = torch.cartesian_prod(c, c, c, c).to(device)\n",
        "\n",
        "# Compare all combinations at once\n",
        "matches = (grid == torch.tensor([ord(c) for c in target], device=device))\n",
        "valid = matches.all(dim=1)\n",
        "if valid.any():\n",
        "    pw = bytes(grid[valid][0].cpu().tolist()).decode()\n",
        "    print(\" Password found:\", pw)\n",
        "else:\n",
        "    print(\" Password not found\")\n"
      ]
    }
  ]
}